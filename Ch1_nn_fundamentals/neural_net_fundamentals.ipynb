{
 "cells": [
  {
   "cell_type": "markdown",
   "metadata": {},
   "source": [
    "# 신경망 기초\n",
    "\n",
    "<br/>\n",
    "\n",
    "### 벡터와 행렬 그리고 텐서(tensor)\n",
    "\n",
    "- 벡터\n",
    "\n",
    "  - 1차원 배열 (python)\n",
    "\n",
    "  - **크기**와 **방향**을 가진 양\n",
    "\n",
    "    - 열 벡터 - 세로 나열, 수학과 딥러닝 분야에서 선호\n",
    "    - 행 벡터 - 가로 나열\n",
    "\n",
    "    > python으로 행 벡터를 구현할 때, 가로 방향의 행렬로 변환하여 사용하면 좋음.<br/>\n",
    "    > **ex)** 원소 수가 N개인 벡터 - 1 x N 형상의 행렬로 처리\n",
    "\n",
    "- 행렬\n",
    "\n",
    "  - 2차원 배열 (python)\n",
    "  - 숫자가 2차원 형태(사각형 형상)로 늘어선 것\n",
    "\n",
    "- 텐서 (tensor)\n",
    "\n",
    "  - 벡터와 행렬을 확장하여 숫자 집합을 N차원으로 표현한 것"
   ]
  },
  {
   "cell_type": "code",
   "execution_count": null,
   "metadata": {},
   "outputs": [],
   "source": [
    "import numpy as np\n",
    "\n",
    "\n",
    "x = np.array([1,2,3])\n",
    "x.__class__ # class 이름 표시"
   ]
  },
  {
   "cell_type": "code",
   "execution_count": 4,
   "metadata": {},
   "outputs": [
    {
     "data": {
      "text/plain": [
       "(3,)"
      ]
     },
     "execution_count": 4,
     "metadata": {},
     "output_type": "execute_result"
    }
   ],
   "source": [
    "x.shape # 다차원 배열의 형상"
   ]
  },
  {
   "cell_type": "code",
   "execution_count": 5,
   "metadata": {},
   "outputs": [
    {
     "data": {
      "text/plain": [
       "1"
      ]
     },
     "execution_count": 5,
     "metadata": {},
     "output_type": "execute_result"
    }
   ],
   "source": [
    "x.ndim # 다차원 배열의 차원 수"
   ]
  },
  {
   "cell_type": "markdown",
   "metadata": {},
   "source": [
    "## 안녕"
   ]
  },
  {
   "cell_type": "code",
   "execution_count": 9,
   "metadata": {},
   "outputs": [
    {
     "data": {
      "text/plain": [
       "(2, 3)"
      ]
     },
     "execution_count": 9,
     "metadata": {},
     "output_type": "execute_result"
    }
   ],
   "source": [
    "W = np.array([[1,2,3], [4,5,6]])\n",
    "W.shape # 2행 3열"
   ]
  },
  {
   "cell_type": "code",
   "execution_count": 10,
   "metadata": {},
   "outputs": [
    {
     "data": {
      "text/plain": [
       "2"
      ]
     },
     "execution_count": 10,
     "metadata": {},
     "output_type": "execute_result"
    }
   ],
   "source": [
    "W.ndim"
   ]
  },
  {
   "cell_type": "code",
   "execution_count": null,
   "metadata": {},
   "outputs": [],
   "source": []
  }
 ],
 "metadata": {
  "kernelspec": {
   "display_name": "Python 3",
   "language": "python",
   "name": "python3"
  },
  "language_info": {
   "codemirror_mode": {
    "name": "ipython",
    "version": 3
   },
   "file_extension": ".py",
   "mimetype": "text/x-python",
   "name": "python",
   "nbconvert_exporter": "python",
   "pygments_lexer": "ipython3",
   "version": "3.7.3"
  }
 },
 "nbformat": 4,
 "nbformat_minor": 2
}
