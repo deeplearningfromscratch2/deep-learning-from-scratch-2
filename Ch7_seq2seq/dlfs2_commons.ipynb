{
  "nbformat": 4,
  "nbformat_minor": 0,
  "metadata": {
    "colab": {
      "name": "Copy of dlfs2_commons.ipynb",
      "version": "0.3.2",
      "provenance": [],
      "collapsed_sections": []
    },
    "kernelspec": {
      "name": "python3",
      "display_name": "Python 3"
    },
    "accelerator": "GPU"
  },
  "cells": [
    {
      "cell_type": "code",
      "metadata": {
        "id": "Aeq_eCrriOQi",
        "colab_type": "code",
        "colab": {}
      },
      "source": [
        "!rm -rf deep-learning-from-scratch-2"
      ],
      "execution_count": 0,
      "outputs": []
    },
    {
      "cell_type": "code",
      "metadata": {
        "id": "sQ7ADc5lpiff",
        "colab_type": "code",
        "outputId": "d5a91089-b029-49c5-c665-6c0fbaa96c54",
        "colab": {
          "base_uri": "https://localhost:8080/",
          "height": 102
        }
      },
      "source": [
        "!git clone https://github.com/WegraLee/deep-learning-from-scratch-2.git"
      ],
      "execution_count": 2,
      "outputs": [
        {
          "output_type": "stream",
          "text": [
            "Cloning into 'deep-learning-from-scratch-2'...\n",
            "remote: Enumerating objects: 580, done.\u001b[K\n",
            "remote: Total 580 (delta 0), reused 0 (delta 0), pack-reused 580\u001b[K\n",
            "Receiving objects: 100% (580/580), 29.81 MiB | 19.17 MiB/s, done.\n",
            "Resolving deltas: 100% (349/349), done.\n"
          ],
          "name": "stdout"
        }
      ]
    },
    {
      "cell_type": "code",
      "metadata": {
        "id": "kPyGQlK5pmXk",
        "colab_type": "code",
        "colab": {}
      },
      "source": [
        "!ln -s ./deep-learning-from-scratch-2/common common"
      ],
      "execution_count": 0,
      "outputs": []
    },
    {
      "cell_type": "code",
      "metadata": {
        "id": "1ZpSv_GDsUPD",
        "colab_type": "code",
        "colab": {}
      },
      "source": [
        "!ln -s ./deep-learning-from-scratch-2/dataset dataset"
      ],
      "execution_count": 0,
      "outputs": []
    },
    {
      "cell_type": "code",
      "metadata": {
        "id": "gFSBFTmacPv-",
        "colab_type": "code",
        "colab": {}
      },
      "source": [
        ""
      ],
      "execution_count": 0,
      "outputs": []
    }
  ]
}